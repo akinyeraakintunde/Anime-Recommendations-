{
  "nbformat": 4,
  "nbformat_minor": 0,
  "metadata": {
    "accelerator": "TPU",
    "colab": {
      "name": "COM739_17952_CW3.ipynb",
      "provenance": [],
      "collapsed_sections": []
    },
    "kernelspec": {
      "display_name": "Python 3",
      "language": "python",
      "name": "python3"
    },
    "language_info": {
      "codemirror_mode": {
        "name": "ipython",
        "version": 3
      },
      "file_extension": ".py",
      "mimetype": "text/x-python",
      "name": "python",
      "nbconvert_exporter": "python",
      "pygments_lexer": "ipython3",
      "version": "3.8.8"
    }
  },
  "cells": [
    {
      "cell_type": "markdown",
      "metadata": {
        "id": "f4M-Qf6JZWuD"
      },
      "source": [
        "**Initial Setup**\n",
        "\n",
        "1. First, you will setup your CoLab environment. Run the cell below."
      ]
    },
    {
      "cell_type": "code",
      "metadata": {
        "id": "iyDn8qrkcDRx",
        "colab": {
          "base_uri": "https://localhost:8080/"
        },
        "outputId": "cf3a2f03-608d-475c-c8de-311d835d4e12"
      },
      "source": [
        "!pip install pyspark\n",
        "!pip install -U -q PyDrive\n",
        "!apt install openjdk-8-jdk-headless -qq\n",
        "import os\n",
        "os.environ[\"JAVA_HOME\"] = \"/usr/lib/jvm/java-8-openjdk-amd64\""
      ],
      "execution_count": 5,
      "outputs": [
        {
          "output_type": "stream",
          "name": "stdout",
          "text": [
            "Collecting pyspark\n",
            "  Downloading pyspark-3.2.0.tar.gz (281.3 MB)\n",
            "\u001b[K     |████████████████████████████████| 281.3 MB 25 kB/s \n",
            "\u001b[?25hCollecting py4j==0.10.9.2\n",
            "  Downloading py4j-0.10.9.2-py2.py3-none-any.whl (198 kB)\n",
            "\u001b[K     |████████████████████████████████| 198 kB 50.8 MB/s \n",
            "\u001b[?25hBuilding wheels for collected packages: pyspark\n",
            "  Building wheel for pyspark (setup.py) ... \u001b[?25l\u001b[?25hdone\n",
            "  Created wheel for pyspark: filename=pyspark-3.2.0-py2.py3-none-any.whl size=281805912 sha256=a53682ab22334f8661f0268e78ec64a360ac134edb60ca7596c868af3ae2e423\n",
            "  Stored in directory: /root/.cache/pip/wheels/0b/de/d2/9be5d59d7331c6c2a7c1b6d1a4f463ce107332b1ecd4e80718\n",
            "Successfully built pyspark\n",
            "Installing collected packages: py4j, pyspark\n",
            "Successfully installed py4j-0.10.9.2 pyspark-3.2.0\n",
            "The following additional packages will be installed:\n",
            "  openjdk-8-jre-headless\n",
            "Suggested packages:\n",
            "  openjdk-8-demo openjdk-8-source libnss-mdns fonts-dejavu-extra\n",
            "  fonts-ipafont-gothic fonts-ipafont-mincho fonts-wqy-microhei\n",
            "  fonts-wqy-zenhei fonts-indic\n",
            "The following NEW packages will be installed:\n",
            "  openjdk-8-jdk-headless openjdk-8-jre-headless\n",
            "0 upgraded, 2 newly installed, 0 to remove and 37 not upgraded.\n",
            "Need to get 36.5 MB of archives.\n",
            "After this operation, 143 MB of additional disk space will be used.\n",
            "Selecting previously unselected package openjdk-8-jre-headless:amd64.\n",
            "(Reading database ... 155219 files and directories currently installed.)\n",
            "Preparing to unpack .../openjdk-8-jre-headless_8u292-b10-0ubuntu1~18.04_amd64.deb ...\n",
            "Unpacking openjdk-8-jre-headless:amd64 (8u292-b10-0ubuntu1~18.04) ...\n",
            "Selecting previously unselected package openjdk-8-jdk-headless:amd64.\n",
            "Preparing to unpack .../openjdk-8-jdk-headless_8u292-b10-0ubuntu1~18.04_amd64.deb ...\n",
            "Unpacking openjdk-8-jdk-headless:amd64 (8u292-b10-0ubuntu1~18.04) ...\n",
            "Setting up openjdk-8-jre-headless:amd64 (8u292-b10-0ubuntu1~18.04) ...\n",
            "update-alternatives: using /usr/lib/jvm/java-8-openjdk-amd64/jre/bin/orbd to provide /usr/bin/orbd (orbd) in auto mode\n",
            "update-alternatives: using /usr/lib/jvm/java-8-openjdk-amd64/jre/bin/servertool to provide /usr/bin/servertool (servertool) in auto mode\n",
            "update-alternatives: using /usr/lib/jvm/java-8-openjdk-amd64/jre/bin/tnameserv to provide /usr/bin/tnameserv (tnameserv) in auto mode\n",
            "Setting up openjdk-8-jdk-headless:amd64 (8u292-b10-0ubuntu1~18.04) ...\n",
            "update-alternatives: using /usr/lib/jvm/java-8-openjdk-amd64/bin/idlj to provide /usr/bin/idlj (idlj) in auto mode\n",
            "update-alternatives: using /usr/lib/jvm/java-8-openjdk-amd64/bin/wsimport to provide /usr/bin/wsimport (wsimport) in auto mode\n",
            "update-alternatives: using /usr/lib/jvm/java-8-openjdk-amd64/bin/jsadebugd to provide /usr/bin/jsadebugd (jsadebugd) in auto mode\n",
            "update-alternatives: using /usr/lib/jvm/java-8-openjdk-amd64/bin/native2ascii to provide /usr/bin/native2ascii (native2ascii) in auto mode\n",
            "update-alternatives: using /usr/lib/jvm/java-8-openjdk-amd64/bin/javah to provide /usr/bin/javah (javah) in auto mode\n",
            "update-alternatives: using /usr/lib/jvm/java-8-openjdk-amd64/bin/hsdb to provide /usr/bin/hsdb (hsdb) in auto mode\n",
            "update-alternatives: using /usr/lib/jvm/java-8-openjdk-amd64/bin/clhsdb to provide /usr/bin/clhsdb (clhsdb) in auto mode\n",
            "update-alternatives: using /usr/lib/jvm/java-8-openjdk-amd64/bin/extcheck to provide /usr/bin/extcheck (extcheck) in auto mode\n",
            "update-alternatives: using /usr/lib/jvm/java-8-openjdk-amd64/bin/schemagen to provide /usr/bin/schemagen (schemagen) in auto mode\n",
            "update-alternatives: using /usr/lib/jvm/java-8-openjdk-amd64/bin/xjc to provide /usr/bin/xjc (xjc) in auto mode\n",
            "update-alternatives: using /usr/lib/jvm/java-8-openjdk-amd64/bin/jhat to provide /usr/bin/jhat (jhat) in auto mode\n",
            "update-alternatives: using /usr/lib/jvm/java-8-openjdk-amd64/bin/wsgen to provide /usr/bin/wsgen (wsgen) in auto mode\n"
          ]
        }
      ]
    },
    {
      "cell_type": "markdown",
      "metadata": {
        "id": "oLuQyFfv945l"
      },
      "source": [
        "Now we authenticate a Google Drive client to download the file we will be processing in our Spark job.\n",
        "\n",
        "**Make sure to follow the interactive instructions.**"
      ]
    },
    {
      "cell_type": "code",
      "metadata": {
        "id": "Kq_Z4KZBlz1Y"
      },
      "source": [
        "from pydrive.auth import GoogleAuth\n",
        "from pydrive.drive import GoogleDrive\n",
        "from google.colab import auth\n",
        "from oauth2client.client import GoogleCredentials\n",
        "\n",
        "# Authenticate and create the PyDrive client\n",
        "auth.authenticate_user()\n",
        "gauth = GoogleAuth()\n",
        "gauth.credentials = GoogleCredentials.get_application_default()\n",
        "drive = GoogleDrive(gauth)"
      ],
      "execution_count": 1,
      "outputs": []
    },
    {
      "cell_type": "markdown",
      "metadata": {
        "id": "mzgVstB--CBc"
      },
      "source": [
        "Download both anime.csv and rating.csv, and store it in your google drive. It is advisable to create a separate project folder, where you can store this dataset and also your code.\n",
        "\n",
        "The script will give you the id of the two files in your drive."
      ]
    },
    {
      "cell_type": "code",
      "metadata": {
        "id": "uTCTGdj90mvn",
        "colab": {
          "base_uri": "https://localhost:8080/"
        },
        "outputId": "be5d1036-c75a-4abb-a6cc-778a856906dd"
      },
      "source": [
        "file_list = drive.ListFile({'q': \"'1Oi8cMnAfJVZH9-FyXGxwOrGGCIkkB7uy' in parents\"}).GetList()\n",
        "for f in file_list:\n",
        "  print('title: %s, id: %s' % (f['title'], f['id']))"
      ],
      "execution_count": 2,
      "outputs": [
        {
          "output_type": "stream",
          "name": "stderr",
          "text": [
            "WARNING:googleapiclient.discovery_cache:file_cache is unavailable when using oauth2client >= 4.0.0 or google-auth\n",
            "Traceback (most recent call last):\n",
            "  File \"/usr/local/lib/python3.7/dist-packages/googleapiclient/discovery_cache/file_cache.py\", line 33, in <module>\n",
            "    from oauth2client.contrib.locked_file import LockedFile\n",
            "ModuleNotFoundError: No module named 'oauth2client.contrib.locked_file'\n",
            "\n",
            "During handling of the above exception, another exception occurred:\n",
            "\n",
            "Traceback (most recent call last):\n",
            "  File \"/usr/local/lib/python3.7/dist-packages/googleapiclient/discovery_cache/file_cache.py\", line 37, in <module>\n",
            "    from oauth2client.locked_file import LockedFile\n",
            "ModuleNotFoundError: No module named 'oauth2client.locked_file'\n",
            "\n",
            "During handling of the above exception, another exception occurred:\n",
            "\n",
            "Traceback (most recent call last):\n",
            "  File \"/usr/local/lib/python3.7/dist-packages/googleapiclient/discovery_cache/__init__.py\", line 44, in autodetect\n",
            "    from . import file_cache\n",
            "  File \"/usr/local/lib/python3.7/dist-packages/googleapiclient/discovery_cache/file_cache.py\", line 41, in <module>\n",
            "    \"file_cache is unavailable when using oauth2client >= 4.0.0 or google-auth\"\n",
            "ImportError: file_cache is unavailable when using oauth2client >= 4.0.0 or google-auth\n"
          ]
        },
        {
          "output_type": "stream",
          "name": "stdout",
          "text": [
            "title: rating.csv, id: 1f76dQZxRB1fNaReBv_DnUDVkIXNm7mw9\n",
            "title: anime.csv, id: 1TppJoj4QVJlc_HML20xmH847Brrw0Zfc\n"
          ]
        }
      ]
    },
    {
      "cell_type": "markdown",
      "metadata": {
        "id": "6zwibooR_do9"
      },
      "source": [
        "If you executed the cells below, you should be able to see the dataset we will need for this Colab under the \"Files\" tab on the left panel."
      ]
    },
    {
      "cell_type": "code",
      "metadata": {
        "id": "RDb3bcspuvyi"
      },
      "source": [
        "# Change the id, if it differs from the one below.\n",
        "id='1TppJoj4QVJlc_HML20xmH847Brrw0Zfc'\n",
        "downloaded = drive.CreateFile({'id': id})\n",
        "downloaded.GetContentFile('anime.csv')\n",
        "\n",
        "id='1f76dQZxRB1fNaReBv_DnUDVkIXNm7mw9'\n",
        "downloaded = drive.CreateFile({'id': id})\n",
        "downloaded.GetContentFile('rating.csv')"
      ],
      "execution_count": 3,
      "outputs": []
    },
    {
      "cell_type": "markdown",
      "metadata": {
        "id": "MkVgWJCZ_kA1"
      },
      "source": [
        "Here is a list of packages that might be useful to you. \n",
        "\n",
        "**Student Activity: Add the packages you need to carry out your analysis here** "
      ]
    },
    {
      "cell_type": "code",
      "metadata": {
        "id": "VmHerqkYKTy-"
      },
      "source": [
        ""
      ],
      "execution_count": null,
      "outputs": []
    },
    {
      "cell_type": "code",
      "metadata": {
        "id": "c6S53q8Ur9cf"
      },
      "source": [
        "import pandas as pd\n",
        "import numpy as np\n",
        "import matplotlib.pyplot as plt\n",
        "%matplotlib inline\n",
        "\n",
        "# Student Activity: Add your packages here.\n",
        "from pyspark import SparkConf\n",
        "from pyspark.sql import SparkSession\n",
        "from pyspark.sql.functions import col\n",
        "import pyspark\n",
        "from pyspark.sql.types import IntegerType\n",
        "from pyspark.ml.recommendation import ALS\n",
        "from pyspark.ml.feature import StringIndexer\n",
        "from pyspark.ml.feature import IndexToString\n",
        "from pyspark.sql.functions import array, col, lit, struct\n",
        "from pyspark.sql.functions import avg"
      ],
      "execution_count": 6,
      "outputs": []
    },
    {
      "cell_type": "markdown",
      "metadata": {
        "id": "cLvokhSvcMcG"
      },
      "source": [
        "**This step initializes the Spark context.**"
      ]
    },
    {
      "cell_type": "code",
      "metadata": {
        "id": "zQXrcZwKZOhO"
      },
      "source": [
        "# create the session\n",
        "conf = SparkConf().set(\"spark.ui.port\", \"4050\")\n",
        "\n",
        "# create the context\n",
        "sc = pyspark.SparkContext(conf=conf)\n",
        "spark = SparkSession.builder.getOrCreate()"
      ],
      "execution_count": 7,
      "outputs": []
    },
    {
      "cell_type": "markdown",
      "metadata": {
        "id": "SJmuKtJUagDZ"
      },
      "source": [
        "You can easily check the current version and get the link of the web interface. In the Spark UI, you can monitor the progress of your job and debug the performance bottlenecks (if your Colab is running with a local runtime)."
      ]
    },
    {
      "cell_type": "code",
      "metadata": {
        "id": "OT25Rxufje4A",
        "colab": {
          "base_uri": "https://localhost:8080/",
          "height": 214
        },
        "outputId": "f93c36f6-a85c-4d26-cf28-2853b262c516"
      },
      "source": [
        "spark"
      ],
      "execution_count": null,
      "outputs": [
        {
          "output_type": "execute_result",
          "data": {
            "text/html": [
              "\n",
              "            <div>\n",
              "                <p><b>SparkSession - in-memory</b></p>\n",
              "                \n",
              "        <div>\n",
              "            <p><b>SparkContext</b></p>\n",
              "\n",
              "            <p><a href=\"http://2be30d842e2a:4050\">Spark UI</a></p>\n",
              "\n",
              "            <dl>\n",
              "              <dt>Version</dt>\n",
              "                <dd><code>v3.2.0</code></dd>\n",
              "              <dt>Master</dt>\n",
              "                <dd><code>local[*]</code></dd>\n",
              "              <dt>AppName</dt>\n",
              "                <dd><code>pyspark-shell</code></dd>\n",
              "            </dl>\n",
              "        </div>\n",
              "        \n",
              "            </div>\n",
              "        "
            ],
            "text/plain": [
              "<pyspark.sql.session.SparkSession at 0x7f5d91188f50>"
            ]
          },
          "metadata": {},
          "execution_count": 3
        }
      ]
    },
    {
      "cell_type": "markdown",
      "metadata": {
        "id": "iK9ISlEuAnkM"
      },
      "source": [
        "## **From this point onwards, you are supposed to do the coding yourself. Follow the steps as mentioned below in its appropriate place.**"
      ]
    },
    {
      "cell_type": "markdown",
      "metadata": {
        "id": "2r6S-Jr4A52U"
      },
      "source": [
        "**1. Student Activity: Read the datasets here. You must write the script for the first question and explore both the files here.**\n",
        "\n",
        "Q1. Identify and describe the number of columns in the two dataset files."
      ]
    },
    {
      "cell_type": "code",
      "metadata": {
        "id": "ce0qaZfDhsdo"
      },
      "source": [
        "anime = spark.read.csv('/content/anime.csv',header=True)\n",
        "rating = spark.read.csv('/content/rating.csv',header=True)"
      ],
      "execution_count": 8,
      "outputs": []
    },
    {
      "cell_type": "code",
      "metadata": {
        "colab": {
          "base_uri": "https://localhost:8080/"
        },
        "id": "Fvi_NAKQwJnE",
        "outputId": "40cc2b9b-013c-465f-d9de-65b447032cf6"
      },
      "source": [
        "# print the columns in the anime dataset\n",
        "print('There are %s columns in the anime dataset'% len(anime.columns))\n",
        "anime.columns"
      ],
      "execution_count": 9,
      "outputs": [
        {
          "output_type": "stream",
          "name": "stdout",
          "text": [
            "There are 7 columns in the anime dataset\n"
          ]
        },
        {
          "output_type": "execute_result",
          "data": {
            "text/plain": [
              "['anime_id', 'name', 'genre', 'type', 'episodes', 'rating', 'members']"
            ]
          },
          "metadata": {},
          "execution_count": 9
        }
      ]
    },
    {
      "cell_type": "code",
      "metadata": {
        "colab": {
          "base_uri": "https://localhost:8080/"
        },
        "id": "TIF1uFXQx3oD",
        "outputId": "dff07b2f-b74b-497b-bea7-b6b214c52305"
      },
      "source": [
        "# print the columns in the rating dataset\n",
        "print('There are %s columns in the anime dataset'% len(rating.columns))\n",
        "rating.columns"
      ],
      "execution_count": 10,
      "outputs": [
        {
          "output_type": "stream",
          "name": "stdout",
          "text": [
            "There are 3 columns in the anime dataset\n"
          ]
        },
        {
          "output_type": "execute_result",
          "data": {
            "text/plain": [
              "['user_id', 'anime_id', 'rating']"
            ]
          },
          "metadata": {},
          "execution_count": 10
        }
      ]
    },
    {
      "cell_type": "code",
      "metadata": {
        "id": "dh9l03XP5uBm"
      },
      "source": [
        "# To avoid ambiguity, the rating colum from anime and rating data can be renamed\n",
        "anime = anime.selectExpr('anime_id as anime_id', 'name as name', 'genre as genre', 'type as type',' episodes as episodes',\\\n",
        "                         'rating as anime_rating','members as members')\n",
        "rating = rating.selectExpr('user_id as user_id', 'anime_id as anime_id' ,'rating as user_rating')\n"
      ],
      "execution_count": 11,
      "outputs": []
    },
    {
      "cell_type": "markdown",
      "metadata": {
        "id": "jm7N9uNYbs_y"
      },
      "source": [
        "**2. Student Activity: Preprocess the datasets here. You must write the script for the second question here. Make sure to check if the script is running is correctly or not**\n",
        "\n",
        "Q2. Merge/Join/Combine the two datasets and identify the key common column that would you have performed? "
      ]
    },
    {
      "cell_type": "code",
      "metadata": {
        "id": "RWQ4NGpl9btl",
        "colab": {
          "base_uri": "https://localhost:8080/"
        },
        "outputId": "d4db2926-be70-4d9b-b89c-f0830b37dc36"
      },
      "source": [
        "# perfrom an inner join on the datasets\n",
        "data = anime.join(rating, on='anime_id', how='inner')\n",
        "data.show()"
      ],
      "execution_count": 12,
      "outputs": [
        {
          "output_type": "stream",
          "name": "stdout",
          "text": [
            "+--------+--------------------+--------------------+-----+--------+------------+-------+-------+-----------+\n",
            "|anime_id|                name|               genre| type|episodes|anime_rating|members|user_id|user_rating|\n",
            "+--------+--------------------+--------------------+-----+--------+------------+-------+-------+-----------+\n",
            "|      20|              Naruto|Action, Comedy, M...|   TV|     220|        7.81| 683297|      1|         -1|\n",
            "|      24|       School Rumble|Comedy, Romance, ...|   TV|      26|        8.06| 178553|      1|         -1|\n",
            "|      79|            Shuffle!|Comedy, Drama, Ec...|   TV|      24|        7.31| 158772|      1|         -1|\n",
            "|     226|          Elfen Lied|Action, Drama, Ho...|   TV|      13|        7.85| 623511|      1|         -1|\n",
            "|     241|Girls Bravo: Firs...|Comedy, Ecchi, Fa...|   TV|      11|        6.69|  84395|      1|         -1|\n",
            "|     355|   Shakugan no Shana|Action, Drama, Fa...|   TV|      24|        7.74| 297058|      1|         -1|\n",
            "|     356|     Fate/stay night|Action, Fantasy, ...|   TV|      24|        7.58| 374880|      1|         -1|\n",
            "|     442|Naruto Movie 1: D...|Adventure, Comedy...|Movie|       1|        7.17| 120571|      1|         -1|\n",
            "|     487|Girls Bravo: Seco...|Comedy, Ecchi, Fa...|   TV|      13|        6.90|  57110|      1|         -1|\n",
            "|     846|School Rumble Ni ...|Comedy, Romance, ...|   TV|      26|        8.15|  93095|      1|         -1|\n",
            "|     936|Naruto Movie 2: D...|Adventure, Comedy...|Movie|       1|        6.99|  97308|      1|         -1|\n",
            "|    1546|            Negima!?|Adventure, Comedy...|   TV|      26|        7.21|  44009|      1|         -1|\n",
            "|    1692|             _Summer|Drama, Harem, Rom...|  OVA|       2|        5.88|   7051|      1|         -1|\n",
            "|    1836|   Shuffle! Memories|Comedy, Drama, Ec...|   TV|      12|        6.63|  34109|      1|         -1|\n",
            "|    2001|Tengen Toppa Gurr...|Action, Adventure...|   TV|      27|        8.78| 562962|      1|         -1|\n",
            "|    2025|Darker than Black...|Action, Mystery, ...|   TV|      25|        8.25| 440334|      1|         -1|\n",
            "|    2144|Naruto Movie 3: D...|   Action, Adventure|Movie|       1|        6.95|  91526|      1|         -1|\n",
            "|    2787|Shakugan no Shana...|Action, Drama, Fa...|   TV|      24|        7.79| 184525|      1|         -1|\n",
            "|    2993|  Rosario to Vampire|Comedy, Ecchi, Fa...|   TV|      13|        7.14| 299278|      1|         -1|\n",
            "|    3455|          To LOVE-Ru|Comedy, Ecchi, Ha...|   TV|      26|        7.34| 237563|      1|         -1|\n",
            "+--------+--------------------+--------------------+-----+--------+------------+-------+-------+-----------+\n",
            "only showing top 20 rows\n",
            "\n"
          ]
        }
      ]
    },
    {
      "cell_type": "code",
      "metadata": {
        "id": "Bf2JT6vt3u3E"
      },
      "source": [
        ""
      ],
      "execution_count": 12,
      "outputs": []
    },
    {
      "cell_type": "markdown",
      "metadata": {
        "id": "hwtkcRCYCemO"
      },
      "source": [
        "**3. Student Activity: Now do some exploratory analysis. You must write the script for the third and fourth question here. Make sure to check if the script is running is correctly or not**\n",
        "\n",
        "Q3. Find the top 10 anime based on rating. Use tabular/graphical presentation to provide evidence of your analysis.\n",
        "\n",
        "Q4. Find the top 10 anime with the most episodes. Use tabular/graphical presentation to provide evidence of your analysis."
      ]
    },
    {
      "cell_type": "code",
      "metadata": {
        "id": "zADjKUlIKCp3",
        "colab": {
          "base_uri": "https://localhost:8080/"
        },
        "outputId": "79803614-c7dc-405a-930b-9015028e361f"
      },
      "source": [
        "# top 10 anime based on rating\n",
        "data_sort_rating=data.withColumn('user_rating_',data['user_rating'].cast('int')).groupBy('name').avg('user_rating_')\n",
        "data_sort_rating = data_sort_rating.sort(data_sort_rating['avg(user_rating_)'].desc()).show(10,truncate=200)\n"
      ],
      "execution_count": 14,
      "outputs": [
        {
          "output_type": "stream",
          "name": "stdout",
          "text": [
            "+----------------------------------------------------------------+-----------------+\n",
            "|                                                            name|avg(user_rating_)|\n",
            "+----------------------------------------------------------------+-----------------+\n",
            "|                               Warui no wo Taose!! Salaryman Man|             10.0|\n",
            "|                                                      Shiroi Zou|             10.0|\n",
            "|                                              Choegang Top Plate|             10.0|\n",
            "|                                      STAR BEAT!: Hoshi no Kodou|             10.0|\n",
            "|                                                      Shiranpuri|              9.0|\n",
            "|Yakushiji Ryouko no Kaiki Jikenbo: Hamachou, Voice &amp; Fiction|              9.0|\n",
            "|                                               Tang Lang Bu Chan|              9.0|\n",
            "|                                                      Doukyuusei|              9.0|\n",
            "|                                                   Steins;Gate 0|              8.5|\n",
            "|                                                  Kimi no Na wa.|8.297862664847658|\n",
            "+----------------------------------------------------------------+-----------------+\n",
            "only showing top 10 rows\n",
            "\n"
          ]
        }
      ]
    },
    {
      "cell_type": "code",
      "metadata": {
        "colab": {
          "base_uri": "https://localhost:8080/"
        },
        "id": "Ctb4i1FBGYnk",
        "outputId": "2ec60165-0e90-464b-8acc-e9b2123e79f8"
      },
      "source": [
        " # top 10 anime with the most episodes\n",
        "data_sort_episodes=data.withColumn('episodes_',data['episodes'].cast('int')).groupBy('name').max('episodes_')\n",
        "data_sort_episodes = data_sort_episodes.sort(data_sort_episodes['max(episodes_)'].desc()).show(10,truncate=200)"
      ],
      "execution_count": 15,
      "outputs": [
        {
          "output_type": "stream",
          "name": "stdout",
          "text": [
            "+-------------------------------------+--------------+\n",
            "|                                 name|max(episodes_)|\n",
            "+-------------------------------------+--------------+\n",
            "|                           Oyako Club|          1818|\n",
            "|                      Doraemon (1979)|          1787|\n",
            "|               Kirin Monoshiri Yakata|          1565|\n",
            "|   Manga Nippon Mukashibanashi (1976)|          1471|\n",
            "|                     Hoka Hoka Kazoku|          1428|\n",
            "|Monoshiri Daigaku: Ashita no Calendar|          1274|\n",
            "|                Sekai Monoshiri Ryoko|          1006|\n",
            "|                       Kotowaza House|           773|\n",
            "|       Shima Shima Tora no Shimajirou|           726|\n",
            "|                    Ninja Hattori-kun|           694|\n",
            "+-------------------------------------+--------------+\n",
            "only showing top 10 rows\n",
            "\n"
          ]
        }
      ]
    },
    {
      "cell_type": "code",
      "metadata": {
        "colab": {
          "base_uri": "https://localhost:8080/"
        },
        "id": "bngncCA-HH1U",
        "outputId": "32abad1d-2ea8-4ffa-cb8f-ea0430a51bfc"
      },
      "source": [
        "# top 10 genre based on user rating\n",
        "data_sort_rating_genre=data.withColumn('user_rating_',data['user_rating'].cast('int')).groupBy('genre').avg('user_rating_')\n",
        "data_sort_rating_genre = data_sort_rating_genre.sort(data_sort_rating_genre['avg(user_rating_)'].desc()).show(10,truncate=200)\n"
      ],
      "execution_count": 16,
      "outputs": [
        {
          "output_type": "stream",
          "name": "stdout",
          "text": [
            "+---------------------------------------------------------------+------------------+\n",
            "|                                                          genre| avg(user_rating_)|\n",
            "+---------------------------------------------------------------+------------------+\n",
            "|                                       Action, Historical, Kids|              10.0|\n",
            "|    Action, Adventure, Drama, Fantasy, Magic, Military, Shounen| 8.028933018637584|\n",
            "|                            Action, Comedy, Historical, Samurai|               8.0|\n",
            "|           Drama, Fantasy, Romance, Slice of Life, Supernatural| 7.835275008401479|\n",
            "|Drama, Horror, Mystery, Police, Psychological, Seinen, Thriller| 7.809098824553765|\n",
            "|            Action, Drama, Mecha, Military, Sci-Fi, Super Power|  7.76594340400957|\n",
            "|                         Drama, Music, Romance, School, Shounen| 7.740262489415749|\n",
            "|                            Drama, Historical, Seinen, Thriller| 7.713305001634521|\n",
            "|                                               Sci-Fi, Thriller| 7.678108560848738|\n",
            "|                           Drama, Romance, School, Supernatural|7.6744801512287335|\n",
            "+---------------------------------------------------------------+------------------+\n",
            "only showing top 10 rows\n",
            "\n"
          ]
        }
      ]
    },
    {
      "cell_type": "markdown",
      "metadata": {
        "id": "fFSH_STSEUcd"
      },
      "source": [
        "**4. Student Activity: Design the recommendation system. Remember to split the dataset into training and testing to validate your recommendation model. This section would help you in answering question 5**\n",
        "\n",
        "Q5. Design a collaborative filter-based recommendation system. "
      ]
    },
    {
      "cell_type": "code",
      "metadata": {
        "id": "sH0S0cGHsdz6"
      },
      "source": [
        "data2 = data.selectExpr('user_id','name','user_rating')\n",
        "data2 = data2.withColumn('user_rating',data['user_rating'].cast('int'))\n",
        "data2 = data2.withColumn('user_id',data['user_id'].cast('int'))\n",
        "data2 = data2.groupBy('name','user_id').avg('user_rating')\n",
        "indexer = StringIndexer(inputCol=\"name\", outputCol=\"names\") \n",
        "indexer=indexer.fit(data2) \n",
        "data2 = indexer.transform(data2)\n"
      ],
      "execution_count": 17,
      "outputs": []
    },
    {
      "cell_type": "code",
      "metadata": {
        "id": "coPCDwK6L-5B"
      },
      "source": [
        "\n",
        "# dataset split into training and testing set\n",
        "(training, test) = data2.randomSplit([0.8, 0.2])\n",
        "# training the model\n",
        "als = ALS(maxIter=5, implicitPrefs=True,userCol=\"user_id\", itemCol=\"names\", ratingCol='avg(user_rating)',coldStartStrategy=\"drop\")\n",
        "model = als.fit(training)"
      ],
      "execution_count": 18,
      "outputs": []
    },
    {
      "cell_type": "code",
      "metadata": {
        "colab": {
          "base_uri": "https://localhost:8080/"
        },
        "id": "hgqh2lEhPzGX",
        "outputId": "87f461d4-67bb-44ea-a171-e9b4dd10b199"
      },
      "source": [
        "# predict using the testing datatset\n",
        "predictions = model.transform(test)\n",
        "predictions.show()"
      ],
      "execution_count": 19,
      "outputs": [
        {
          "output_type": "stream",
          "name": "stdout",
          "text": [
            "+--------------------+-------+----------------+------+-----------+\n",
            "|                name|user_id|avg(user_rating)| names| prediction|\n",
            "+--------------------+-------+----------------+------+-----------+\n",
            "|       &quot;0&quot;|  24548|            -1.0|6591.0|        0.0|\n",
            "|       &quot;0&quot;|  34232|            -1.0|6591.0|0.011608885|\n",
            "|       &quot;0&quot;|  35199|             5.0|6591.0| 0.02506883|\n",
            "|&quot;Bungaku Sho...|   1313|             8.0|1995.0| 0.10274658|\n",
            "|&quot;Bungaku Sho...|   1866|             8.0|1995.0|0.072162464|\n",
            "|&quot;Bungaku Sho...|   5392|             8.0|1995.0|  0.3995214|\n",
            "|&quot;Bungaku Sho...|   5504|             7.0|1995.0| 0.57809544|\n",
            "|&quot;Bungaku Sho...|   6814|             5.0|1995.0| 0.51406324|\n",
            "|&quot;Bungaku Sho...|   7305|             7.0|1995.0|   0.224262|\n",
            "|&quot;Bungaku Sho...|   7340|             6.0|1995.0| 0.42350265|\n",
            "|&quot;Bungaku Sho...|   7486|             9.0|1995.0| 0.20218632|\n",
            "|&quot;Bungaku Sho...|   8087|             5.0|1995.0|  0.5044712|\n",
            "|&quot;Bungaku Sho...|   8327|             7.0|1995.0| 0.31993082|\n",
            "|&quot;Bungaku Sho...|   9032|             8.0|1995.0|  0.7067057|\n",
            "|&quot;Bungaku Sho...|   9595|             8.0|1995.0| 0.21307537|\n",
            "|&quot;Bungaku Sho...|   9995|             5.0|1995.0|  0.4397393|\n",
            "|&quot;Bungaku Sho...|  10385|             8.0|1995.0| 0.24888122|\n",
            "|&quot;Bungaku Sho...|  10795|             6.0|1995.0|  0.5720821|\n",
            "|&quot;Bungaku Sho...|  11348|             8.0|1995.0| 0.47423488|\n",
            "|&quot;Bungaku Sho...|  11561|             6.0|1995.0| 0.23722115|\n",
            "+--------------------+-------+----------------+------+-----------+\n",
            "only showing top 20 rows\n",
            "\n"
          ]
        }
      ]
    },
    {
      "cell_type": "code",
      "metadata": {
        "id": "SBCcSs8OOPlE"
      },
      "source": [
        ""
      ],
      "execution_count": null,
      "outputs": []
    },
    {
      "cell_type": "markdown",
      "metadata": {
        "id": "xe1VOcREEzQW"
      },
      "source": [
        "**Student Activity: Analyse the output of the test dataset here.**\n",
        "\n",
        "Q6. Give example of best three anime recommendations for minimum of 10 users."
      ]
    },
    {
      "cell_type": "code",
      "metadata": {
        "id": "7RQIUlydc3bO"
      },
      "source": [
        "name_labels = indexer.labels\n",
        "\n",
        "id_name={x:y for x,y in enumerate(list(name_labels))}\n"
      ],
      "execution_count": 20,
      "outputs": []
    },
    {
      "cell_type": "code",
      "metadata": {
        "id": "HMgJCE2XW_q1"
      },
      "source": [
        "def recommendedArtists(userId,limit=3):\n",
        " test =  model.recommendForAllUsers(limit).filter(col('user_id')==userId).select(\"recommendations\").collect()\n",
        " topanime = []\n",
        " for item in test[0][0]:\n",
        "  topanime.append(id_name[item.names])\n",
        " return topanime\n"
      ],
      "execution_count": 21,
      "outputs": []
    },
    {
      "cell_type": "code",
      "metadata": {
        "id": "xdob4pMiWbaQ",
        "colab": {
          "base_uri": "https://localhost:8080/"
        },
        "outputId": "30c3912c-1f26-4986-da02-320148c451e9"
      },
      "source": [
        "x=0\n",
        "while x<10:\n",
        "  id_to_predict =  np.random.randint(1000)\n",
        "  recommended = recommendedArtists(id_to_predict)\n",
        "  print ('*' *100)\n",
        "  print (\"These are the recommended  anime for user %s\" % id_to_predict)\n",
        "  print (recommended)\n",
        "  print ('*' *100)\n",
        "  print ('')\n",
        "  x=x+1"
      ],
      "execution_count": 22,
      "outputs": [
        {
          "output_type": "stream",
          "name": "stderr",
          "text": [
            "/usr/local/lib/python3.7/dist-packages/pyspark/sql/context.py:127: FutureWarning: Deprecated in 3.0.0. Use SparkSession.builder.getOrCreate() instead.\n",
            "  FutureWarning\n"
          ]
        },
        {
          "output_type": "stream",
          "name": "stdout",
          "text": [
            "****************************************************************************************************\n",
            "These are the recommended  anime for user 364\n",
            "['Fullmetal Alchemist: Brotherhood', 'Death Note', 'Sword Art Online']\n",
            "****************************************************************************************************\n",
            "\n",
            "****************************************************************************************************\n",
            "These are the recommended  anime for user 648\n",
            "['Shingeki no Kyojin', 'Death Note', 'Sword Art Online']\n",
            "****************************************************************************************************\n",
            "\n",
            "****************************************************************************************************\n",
            "These are the recommended  anime for user 215\n",
            "['Death Note', 'Shingeki no Kyojin', 'Sword Art Online']\n",
            "****************************************************************************************************\n",
            "\n",
            "****************************************************************************************************\n",
            "These are the recommended  anime for user 946\n",
            "['Code Geass: Hangyaku no Lelouch', 'Code Geass: Hangyaku no Lelouch R2', 'Darker than Black: Kuro no Keiyakusha']\n",
            "****************************************************************************************************\n",
            "\n",
            "****************************************************************************************************\n",
            "These are the recommended  anime for user 53\n",
            "['Clannad', 'Toradora!', 'Angel Beats!']\n",
            "****************************************************************************************************\n",
            "\n",
            "****************************************************************************************************\n",
            "These are the recommended  anime for user 976\n",
            "['Angel Beats!', 'Steins;Gate', 'Mirai Nikki (TV)']\n",
            "****************************************************************************************************\n",
            "\n",
            "****************************************************************************************************\n",
            "These are the recommended  anime for user 947\n",
            "['Naruto', 'Death Note', 'Fullmetal Alchemist']\n",
            "****************************************************************************************************\n",
            "\n",
            "****************************************************************************************************\n",
            "These are the recommended  anime for user 366\n",
            "['Shingeki no Kyojin', 'Death Note', 'Sword Art Online']\n",
            "****************************************************************************************************\n",
            "\n",
            "****************************************************************************************************\n",
            "These are the recommended  anime for user 386\n",
            "['Death Note', 'Naruto', 'Code Geass: Hangyaku no Lelouch']\n",
            "****************************************************************************************************\n",
            "\n",
            "****************************************************************************************************\n",
            "These are the recommended  anime for user 807\n",
            "['Sen to Chihiro no Kamikakushi', 'Howl no Ugoku Shiro', 'Death Note']\n",
            "****************************************************************************************************\n",
            "\n"
          ]
        }
      ]
    },
    {
      "cell_type": "code",
      "metadata": {
        "id": "cBGK3UW-Oj-b"
      },
      "source": [
        ""
      ],
      "execution_count": null,
      "outputs": []
    }
  ]
}